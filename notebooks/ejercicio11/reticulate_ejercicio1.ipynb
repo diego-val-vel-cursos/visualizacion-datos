{
 "cells": [
  {
   "cell_type": "markdown",
   "id": "foreign-brief",
   "metadata": {},
   "source": [
    "# Análisis de Ventas de Productos\n",
    "\n",
    "## Objetivo\n",
    "\n",
    "El objetivo de este ejercicio es demostrar la integración de Python en R utilizando `reticulate` para visualizar datos de ventas de productos a lo largo de tres meses.\n",
    "\n",
    "## Análisis\n",
    "\n",
    "Se analizarán las ventas de tres productos distintos en el primer trimestre del año. El análisis se centrará en identificar tendencias de ventas y comparar el desempeño de los productos entre sí.\n",
    "\n",
    "## Solución\n",
    "\n",
    "Utilizando `reticulate`, se importó la biblioteca `matplotlib` de Python para crear un gráfico de barras que muestra las ventas de cada producto. Se personalizó el gráfico para mejorar su visualización, añadiendo colores específicos por producto, etiquetas claras y un título descriptivo. El gráfico se exporta en formato PNG para su uso en diferentes medios.\n",
    "\n",
    "## Conclusión\n",
    "\n",
    "La integración efectiva entre R y Python a través de `reticulate` permite utilizar las potentes herramientas de visualización de Python directamente dentro de un entorno de R, facilitando un flujo de trabajo integrado y eficiente."
   ]
  },
  {
   "cell_type": "code",
   "execution_count": 1,
   "id": "original-municipality",
   "metadata": {},
   "outputs": [],
   "source": [
    "# Cargar el paquete reticulate\n",
    "library(reticulate)\n",
    "\n",
    "# Usar el entorno Python predeterminado o especificar uno\n",
    "use_python(\"/opt/conda/bin/python3\", required = T)\n",
    "\n",
    "# Importar matplotlib\n",
    "matplotlib <- import(\"matplotlib\")\n",
    "pyplot <- import(\"matplotlib.pyplot\")"
   ]
  },
  {
   "cell_type": "code",
   "execution_count": 2,
   "id": "numerous-patient",
   "metadata": {},
   "outputs": [],
   "source": [
    "# Definir los datos de ventas\n",
    "meses <- c(\"Enero\", \"Febrero\", \"Marzo\")\n",
    "ventas_A <- c(200, 150, 180)\n",
    "ventas_B <- c(150, 200, 160)\n",
    "ventas_C <- c(180, 170, 190)"
   ]
  },
  {
   "cell_type": "code",
   "execution_count": 3,
   "id": "manufactured-purple",
   "metadata": {},
   "outputs": [
    {
     "data": {
      "text/plain": [
       "<BarContainer object of 3 artists>"
      ]
     },
     "metadata": {},
     "output_type": "display_data"
    },
    {
     "data": {
      "text/plain": [
       "<BarContainer object of 3 artists>"
      ]
     },
     "metadata": {},
     "output_type": "display_data"
    },
    {
     "data": {
      "text/plain": [
       "<BarContainer object of 3 artists>"
      ]
     },
     "metadata": {},
     "output_type": "display_data"
    },
    {
     "data": {
      "text/plain": [
       "Text(0.5, 1.0, 'Comparación de Ventas Mensuales')"
      ]
     },
     "metadata": {},
     "output_type": "display_data"
    },
    {
     "data": {
      "text/plain": [
       "Text(0.5, 0, 'Meses')"
      ]
     },
     "metadata": {},
     "output_type": "display_data"
    },
    {
     "data": {
      "text/plain": [
       "Text(0, 0.5, 'Ventas')"
      ]
     },
     "metadata": {},
     "output_type": "display_data"
    },
    {
     "data": {
      "text/plain": [
       "[[1]]\n",
       "[[1]][[1]]\n",
       "<matplotlib.axis.XTick object at 0x7f1aecd2cac0>\n",
       "\n",
       "[[1]][[2]]\n",
       "<matplotlib.axis.XTick object at 0x7f1aecd2ca90>\n",
       "\n",
       "[[1]][[3]]\n",
       "<matplotlib.axis.XTick object at 0x7f1aecd2c580>\n",
       "\n",
       "\n",
       "[[2]]\n",
       "[[2]][[1]]\n",
       "Text(0.25, 0, 'Enero')\n",
       "\n",
       "[[2]][[2]]\n",
       "Text(1.25, 0, 'Febrero')\n",
       "\n",
       "[[2]][[3]]\n",
       "Text(2.25, 0, 'Marzo')\n",
       "\n"
      ]
     },
     "metadata": {},
     "output_type": "display_data"
    },
    {
     "data": {
      "text/plain": [
       "<matplotlib.legend.Legend object at 0x7f1aeca5e2b0>"
      ]
     },
     "metadata": {},
     "output_type": "display_data"
    }
   ],
   "source": [
    "# Configurar los datos en formato adecuado para matplotlib\n",
    "posiciones <- 0:2  # Posiciones de las barras en el eje X\n",
    "ancho_barra <- 0.25  # Ancho de cada barra\n",
    "\n",
    "# Crear las barras para cada producto\n",
    "pyplot$bar(posiciones, ventas_A, width = ancho_barra, color = 'blue', label = 'Producto A')\n",
    "pyplot$bar(posiciones + ancho_barra, ventas_B, width = ancho_barra, color = 'green', label = 'Producto B')\n",
    "pyplot$bar(posiciones + 2 * ancho_barra, ventas_C, width = ancho_barra, color = 'red', label = 'Producto C')\n",
    "\n",
    "# Personalización del gráfico\n",
    "pyplot$title(\"Comparación de Ventas Mensuales\")\n",
    "pyplot$xlabel(\"Meses\")\n",
    "pyplot$ylabel(\"Ventas\")\n",
    "pyplot$xticks(posiciones + ancho_barra, meses)\n",
    "pyplot$legend()\n",
    "\n",
    "# Mostrar el gráfico\n",
    "pyplot$show()"
   ]
  },
  {
   "cell_type": "code",
   "execution_count": 4,
   "id": "rubber-digest",
   "metadata": {},
   "outputs": [],
   "source": [
    "# Guardar el gráfico en formato PNG\n",
    "pyplot$savefig(\"ventas_mensuales.png\")"
   ]
  }
 ],
 "metadata": {
  "kernelspec": {
   "display_name": "R",
   "language": "R",
   "name": "ir"
  },
  "language_info": {
   "codemirror_mode": "r",
   "file_extension": ".r",
   "mimetype": "text/x-r-source",
   "name": "R",
   "pygments_lexer": "r",
   "version": "3.6.3"
  }
 },
 "nbformat": 4,
 "nbformat_minor": 5
}
