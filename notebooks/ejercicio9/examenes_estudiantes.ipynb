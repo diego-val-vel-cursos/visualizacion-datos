{
 "cells": [
  {
   "cell_type": "markdown",
   "id": "incomplete-impact",
   "metadata": {},
   "source": [
    "# Ejercicio de Visualización con ggplot2 y Lattice\n",
    "\n",
    "## Objetivo\n",
    "Explorar las relaciones entre las puntuaciones de dos exámenes de un grupo de estudiantes utilizando visualizaciones en R, específicamente con las librerías ggplot2 y lattice.\n",
    "\n",
    "## Datos\n",
    "El conjunto de datos incluye puntuaciones de dos exámenes para cuatro estudiantes.\n",
    "\n",
    "## Análisis\n",
    "Se crearán gráficos de dispersión para visualizar la relación entre las puntuaciones de los dos exámenes. Se utilizará ggplot2 para una visualización general y lattice para comparaciones individuales por estudiante.\n",
    "\n",
    "## Solución\n",
    "Se seguirán los pasos descritos en el código provisto para cargar las librerías, generar los datos, y crear y personalizar los gráficos usando ggplot2 y lattice."
   ]
  },
  {
   "cell_type": "code",
   "execution_count": null,
   "id": "spatial-trustee",
   "metadata": {},
   "outputs": [],
   "source": [
    "library(ggplot2)\n",
    "library(lattice)"
   ]
  },
  {
   "cell_type": "code",
   "execution_count": null,
   "id": "piano-strain",
   "metadata": {},
   "outputs": [],
   "source": [
    "# Crear un conjunto de datos\n",
    "data <- data.frame(\n",
    "  Estudiante = c(\"Ana\", \"Luis\", \"Jorge\", \"María\"),\n",
    "  Puntuación_Examen1 = c(88, 94, 78, 84),\n",
    "  Puntuación_Examen2 = c(90, 87, 82, 88)\n",
    ")"
   ]
  },
  {
   "cell_type": "code",
   "execution_count": null,
   "id": "invisible-roads",
   "metadata": {},
   "outputs": [],
   "source": [
    "# Gráfico de dispersión con ggplot2\n",
    "p1 <- ggplot(data, aes(x = Puntuación_Examen1, y = Puntuación_Examen2, color = Estudiante)) +\n",
    "  geom_point(size = 4) +\n",
    "  geom_smooth(formula = y ~ x, method = \"lm\", se = FALSE, color = \"gray\") +\n",
    "  labs(title = \"Relación entre las Puntuaciones de los Exámenes\",\n",
    "       x = \"Puntuación en el Examen 1\",\n",
    "       y = \"Puntuación en el Examen 2\",\n",
    "       caption = \"Fuente: Datos ficticios\") +\n",
    "  theme_minimal() +\n",
    "  theme(plot.title = element_text(hjust = 0.5))\n",
    "\n",
    "# Imprimir el objeto de ggplot para mostrar el gráfico\n",
    "print(p1)\n",
    "\n",
    "# Guardar el gráfico en formato PNG\n",
    "ggsave(\"scatterplot_ggplot2.png\", plot = p1, width = 10, height = 6, dpi = 300)"
   ]
  },
  {
   "cell_type": "code",
   "execution_count": null,
   "id": "aging-exception",
   "metadata": {},
   "outputs": [],
   "source": [
    "# Gráfico de dispersión con Lattice\n",
    "p2 <- xyplot(Puntuación_Examen2 ~ Puntuación_Examen1 | Estudiante, data = data,\n",
    "             type = c(\"p\", \"r\"),\n",
    "             layout = c(2, 2),\n",
    "             xlab = \"Puntuación en el Examen 1\",\n",
    "             ylab = \"Puntuación en el Examen 2\",\n",
    "             main = \"Relación por Estudiante\")\n",
    "\n",
    "# Iniciar dispositivo PNG para guardar el gráfico\n",
    "png(filename = \"scatterplot_lattice.png\", width = 800, height = 600)\n",
    "\n",
    "# Imprimir el objeto de xyplot para dibujar y guardar el gráfico\n",
    "print(p2)\n",
    "\n",
    "# Cerrar el dispositivo PNG\n",
    "dev.off()"
   ]
  }
 ],
 "metadata": {
  "kernelspec": {
   "display_name": "R",
   "language": "R",
   "name": "ir"
  },
  "language_info": {
   "codemirror_mode": "r",
   "file_extension": ".r",
   "mimetype": "text/x-r-source",
   "name": "R",
   "pygments_lexer": "r",
   "version": "3.6.3"
  }
 },
 "nbformat": 4,
 "nbformat_minor": 5
}
