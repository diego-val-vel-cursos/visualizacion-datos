{
 "cells": [
  {
   "cell_type": "markdown",
   "id": "acquired-graduation",
   "metadata": {},
   "source": [
    "# Análisis de Ventas con Dask\n",
    "\n",
    "## Objetivo\n",
    "Este notebook demostrará cómo manejar y analizar un conjunto de datos de ventas muy grande utilizando Dask para aprovechar el procesamiento paralelo. Compararemos el rendimiento del procesamiento con Pandas (procesamiento estándar) versus Dask.\n",
    "\n",
    "## Análisis\n",
    "Realizaremos un análisis simple sumando el total de ventas por tienda y visualizaremos los resultados. También compararemos el tiempo que toma realizar esta operación con Pandas y con Dask para evaluar el beneficio del procesamiento paralelo."
   ]
  },
  {
   "cell_type": "code",
   "execution_count": null,
   "id": "objective-czech",
   "metadata": {},
   "outputs": [],
   "source": [
    "import pandas as pd\n",
    "import dask.dataframe as dd\n",
    "import requests\n",
    "import matplotlib.pyplot as plt\n",
    "import time\n",
    "\n",
    "def obtener_datos(api_url, n_iteraciones):\n",
    "    # Concatenar dataframes para simular un dataset grande\n",
    "    df_grande = pd.DataFrame()\n",
    "    for _ in range(n_iteraciones):\n",
    "        try:\n",
    "            response = requests.get(api_url)\n",
    "            response.raise_for_status()  # Lanzará una excepción para respuestas 4XX/5XX\n",
    "            df_temp = pd.DataFrame(response.json())\n",
    "            df_grande = pd.concat([df_grande, df_temp], ignore_index=True)\n",
    "        except requests.RequestException as e:\n",
    "            print(f\"Error al realizar la solicitud: {e}\")\n",
    "        except ValueError:\n",
    "            print(\"Error al decodificar JSON, verifique la URL y la estructura de la respuesta.\")\n",
    "    return df_grande"
   ]
  },
  {
   "cell_type": "code",
   "execution_count": null,
   "id": "protective-village",
   "metadata": {},
   "outputs": [],
   "source": [
    "api_url = \"https://random-data-api.com/api/commerce/random_commerce?size=100\"\n",
    "df_grande = obtener_datos(api_url, 1)  # Ajusta '100' según necesidades y capacidades"
   ]
  },
  {
   "cell_type": "code",
   "execution_count": null,
   "id": "occupied-wages",
   "metadata": {},
   "outputs": [],
   "source": [
    "# Verificar los primeros registros para asegurarse de que los datos se han cargado correctamente\n",
    "print(df_grande.head())"
   ]
  },
  {
   "cell_type": "code",
   "execution_count": null,
   "id": "american-moore",
   "metadata": {},
   "outputs": [],
   "source": [
    "# Convertir a Dask DataFrame\n",
    "ddf = dd.from_pandas(df_grande, npartitions=10)\n",
    "\n",
    "# Medir el tiempo de ejecución con Dask\n",
    "start_time = time.time()\n",
    "total_ventas_dask = ddf.groupby(\"department\")[\"price\"].sum().compute()\n",
    "dask_time = time.time() - start_time\n",
    "\n",
    "# Mostrar tiempo de ejecución y resultados\n",
    "print(f\"Tiempo de ejecución con Dask: {dask_time:.2f} segundos\")\n",
    "print(total_ventas_dask)"
   ]
  },
  {
   "cell_type": "code",
   "execution_count": null,
   "id": "arctic-columbia",
   "metadata": {},
   "outputs": [],
   "source": [
    "# Medir el tiempo de ejecución con Pandas\n",
    "start_time = time.time()\n",
    "total_ventas_pandas = df_grande.groupby(\"department\")[\"price\"].sum()\n",
    "pandas_time = time.time() - start_time\n",
    "\n",
    "# Mostrar tiempo de ejecución y resultados\n",
    "print(f\"Tiempo de ejecución con Pandas: {pandas_time:.2f} segundos\")\n",
    "print(total_ventas_pandas)"
   ]
  },
  {
   "cell_type": "code",
   "execution_count": null,
   "id": "missing-netherlands",
   "metadata": {},
   "outputs": [],
   "source": [
    "# Visualizar con Matplotlib y guardar los gráficos\n",
    "fig, ax = plt.subplots()\n",
    "total_ventas_dask.plot(kind='bar', ax=ax)\n",
    "plt.xlabel('Departamento')\n",
    "plt.ylabel('Total de Ventas')\n",
    "plt.title('Ventas Totales por Departamento con Dask')\n",
    "plt.savefig('ventas_dask.png')\n",
    "plt.show()\n",
    "\n",
    "fig, ax = plt.subplots()\n",
    "total_ventas_pandas.plot(kind='bar', ax=ax)\n",
    "plt.xlabel('Departamento')\n",
    "plt.ylabel('Total de Ventas')\n",
    "plt.title('Ventas Totales por Departamento con Pandas')\n",
    "plt.savefig('ventas_pandas.png')\n",
    "plt.show()"
   ]
  }
 ],
 "metadata": {
  "kernelspec": {
   "display_name": "Python 3",
   "language": "python",
   "name": "python3"
  },
  "language_info": {
   "codemirror_mode": {
    "name": "ipython",
    "version": 3
   },
   "file_extension": ".py",
   "mimetype": "text/x-python",
   "name": "python",
   "nbconvert_exporter": "python",
   "pygments_lexer": "ipython3",
   "version": "3.8.6"
  }
 },
 "nbformat": 4,
 "nbformat_minor": 5
}
