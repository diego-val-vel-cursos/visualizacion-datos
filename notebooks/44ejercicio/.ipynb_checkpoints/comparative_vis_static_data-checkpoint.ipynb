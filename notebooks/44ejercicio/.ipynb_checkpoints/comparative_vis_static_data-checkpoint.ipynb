{
 "cells": [
  {
   "cell_type": "markdown",
   "id": "dressed-grain",
   "metadata": {},
   "source": [
    "# Visualización Comparativa con Holoviews\n",
    "\n",
    "## Objetivo\n",
    "Crear una visualización que permita comparar diferentes aspectos de un conjunto de datos utilizando múltiples tipos de gráficos en Holoviews. Esto ayudará a ilustrar la versatilidad y la capacidad de Holoviews para manejar visualizaciones complejas.\n",
    "\n",
    "## Planteamiento del Problema\n",
    "En análisis de datos, frecuentemente es necesario comparar diferentes dimensiones de un mismo conjunto de datos para obtener una comprensión más completa y detallada. Utilizar un solo tipo de gráfico puede ser limitante, por lo que una combinación de varios gráficos puede ser más efectiva.\n",
    "\n",
    "## Análisis\n",
    "Utilizaremos datos estáticos generados con Pandas y manipulados con Numpy para crear una visualización que incluya un histograma y un diagrama de dispersión. Esto permitirá comparar la distribución de un conjunto de datos y la relación entre dos variables simultáneamente. La integración de estos gráficos en un único componente visual facilitará la interpretación de los datos y destacará cómo diferentes representaciones pueden proporcionar distintos insights."
   ]
  },
  {
   "cell_type": "code",
   "execution_count": null,
   "id": "intimate-lighting",
   "metadata": {},
   "outputs": [],
   "source": [
    "import numpy as np\n",
    "import pandas as pd\n",
    "import holoviews as hv\n",
    "hv.extension('bokeh')\n",
    "\n",
    "# Generar datos aleatorios\n",
    "np.random.seed(42)\n",
    "data = pd.DataFrame({\n",
    "    'Variable A': np.random.normal(loc=50, scale=10, size=100),\n",
    "    'Variable B': np.random.normal(loc=60, scale=15, size=100)\n",
    "})"
   ]
  },
  {
   "cell_type": "code",
   "execution_count": null,
   "id": "caroline-primary",
   "metadata": {},
   "outputs": [],
   "source": [
    "# Crear histograma de la Variable A\n",
    "hist_a = hv.Histogram(np.histogram(data['Variable A'], bins=20), kdims='Variable A')\n",
    "\n",
    "# Crear diagrama de dispersión entre Variable A y Variable B\n",
    "scatter_ab = hv.Scatter(data, 'Variable A', 'Variable B')\n",
    "\n",
    "# Estilizar los gráficos\n",
    "hist_a.opts(width=400, height=400, fill_color='blue', alpha=0.5, line_color='black')\n",
    "scatter_ab.opts(width=400, height=400, size=10, color='green')"
   ]
  },
  {
   "cell_type": "code",
   "execution_count": null,
   "id": "fatty-bench",
   "metadata": {},
   "outputs": [],
   "source": [
    "# Combinar gráficos en un layout\n",
    "layout = (hist_a + scatter_ab).cols(1)\n",
    "\n",
    "# Mostrar el layout\n",
    "layout"
   ]
  }
 ],
 "metadata": {
  "kernelspec": {
   "display_name": "Python 3",
   "language": "python",
   "name": "python3"
  },
  "language_info": {
   "codemirror_mode": {
    "name": "ipython",
    "version": 3
   },
   "file_extension": ".py",
   "mimetype": "text/x-python",
   "name": "python",
   "nbconvert_exporter": "python",
   "pygments_lexer": "ipython3",
   "version": "3.8.6"
  }
 },
 "nbformat": 4,
 "nbformat_minor": 5
}
