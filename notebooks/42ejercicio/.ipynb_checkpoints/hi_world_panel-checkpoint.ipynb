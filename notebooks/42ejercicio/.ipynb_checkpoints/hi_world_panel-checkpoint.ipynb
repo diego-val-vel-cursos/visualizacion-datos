{
 "cells": [
  {
   "cell_type": "code",
   "execution_count": null,
   "id": "coated-induction",
   "metadata": {},
   "outputs": [],
   "source": [
    "import holoviews as hv\n",
    "hv.extension('bokeh')\n",
    "\n",
    "# Datos de ejemplo\n",
    "data = [(1, 2), (2, 3), (3, 5), (4, 7), (5, 11)]\n",
    "curve = hv.Curve(data, kdims=['X'], vdims=['Y']).opts(width=400, height=400, title=\"Hola Mundo con Holoviews\")\n",
    "\n",
    "# Visualizar el gráfico\n",
    "curve"
   ]
  }
 ],
 "metadata": {
  "kernelspec": {
   "display_name": "Python 3",
   "language": "python",
   "name": "python3"
  },
  "language_info": {
   "codemirror_mode": {
    "name": "ipython",
    "version": 3
   },
   "file_extension": ".py",
   "mimetype": "text/x-python",
   "name": "python",
   "nbconvert_exporter": "python",
   "pygments_lexer": "ipython3",
   "version": "3.8.6"
  }
 },
 "nbformat": 4,
 "nbformat_minor": 5
}
