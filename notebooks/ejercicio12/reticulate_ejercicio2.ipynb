{
 "cells": [
  {
   "cell_type": "markdown",
   "id": "ignored-archive",
   "metadata": {},
   "source": [
    "# Análisis de Calidad del Aire\n",
    "\n",
    "## Objetivo\n",
    "\n",
    "Este ejercicio tiene como objetivo utilizar `reticulate` para integrar Python en un análisis de R, visualizando las concentraciones de PM2.5 en varias ciudades grandes a lo largo de un año.\n",
    "\n",
    "## Análisis\n",
    "\n",
    "El análisis se centrará en las fluctuaciones estacionales de las partículas PM2.5, que son indicativos de la calidad del aire urbano. Se compararán las tendencias en Nueva York, Los Ángeles y Chicago.\n",
    "\n",
    "## Solución\n",
    "\n",
    "Se utilizó la biblioteca `matplotlib` de Python para crear un gráfico de líneas que muestra la concentración mensual de PM2.5. Cada ciudad se representó con un color diferente para facilitar la comparación visual. El gráfico se personalizó con títulos y etiquetas para mejorar la claridad.\n",
    "\n",
    "## Conclusión\n",
    "\n",
    "La integración de Python a través de `reticulate` permite un análisis efectivo y visualización detallada de datos complejos, aprovechando la potencia de las bibliotecas de Python directamente desde R."
   ]
  },
  {
   "cell_type": "code",
   "execution_count": 1,
   "id": "geological-mandate",
   "metadata": {},
   "outputs": [],
   "source": [
    "# Cargar el paquete reticulate\n",
    "library(reticulate)\n",
    "\n",
    "# Usar el entorno Python predeterminado o especificar uno\n",
    "use_python(\"/opt/conda/bin/python3\", required = T)\n",
    "\n",
    "# Importar matplotlib\n",
    "matplotlib <- import(\"matplotlib\")\n",
    "pyplot <- import(\"matplotlib.pyplot\")"
   ]
  },
  {
   "cell_type": "code",
   "execution_count": 2,
   "id": "dying-mitchell",
   "metadata": {},
   "outputs": [],
   "source": [
    "# Datos simulados de PM2.5 para las ciudades\n",
    "meses <- c(\"Ene\", \"Feb\", \"Mar\", \"Abr\", \"May\", \"Jun\", \"Jul\", \"Ago\", \"Sep\", \"Oct\", \"Nov\", \"Dic\")\n",
    "pm_ny <- c(22, 19, 20, 18, 15, 13, 14, 16, 18, 20, 21, 23)  # Nueva York\n",
    "pm_la <- c(25, 24, 23, 19, 18, 16, 15, 17, 18, 20, 22, 24)  # Los Ángeles\n",
    "pm_chi <- c(30, 28, 25, 20, 17, 15, 16, 18, 20, 22, 26, 29)  # Chicago"
   ]
  },
  {
   "cell_type": "code",
   "execution_count": 3,
   "id": "freelance-turner",
   "metadata": {},
   "outputs": [
    {
     "data": {
      "text/plain": [
       "<Figure size 1000x600 with 0 Axes>"
      ]
     },
     "metadata": {},
     "output_type": "display_data"
    },
    {
     "data": {
      "text/plain": [
       "[[1]]\n",
       "<matplotlib.lines.Line2D object at 0x7fce82a2d910>\n"
      ]
     },
     "metadata": {},
     "output_type": "display_data"
    },
    {
     "data": {
      "text/plain": [
       "[[1]]\n",
       "<matplotlib.lines.Line2D object at 0x7fce82a2dbe0>\n"
      ]
     },
     "metadata": {},
     "output_type": "display_data"
    },
    {
     "data": {
      "text/plain": [
       "[[1]]\n",
       "<matplotlib.lines.Line2D object at 0x7fce82a2de80>\n"
      ]
     },
     "metadata": {},
     "output_type": "display_data"
    },
    {
     "data": {
      "text/plain": [
       "Text(0.5, 1.0, 'Concentraciones Mensuales de PM2.5')"
      ]
     },
     "metadata": {},
     "output_type": "display_data"
    },
    {
     "data": {
      "text/plain": [
       "Text(0.5, 0, 'Mes')"
      ]
     },
     "metadata": {},
     "output_type": "display_data"
    },
    {
     "data": {
      "text/plain": [
       "Text(0, 0.5, 'Concentración de PM2.5')"
      ]
     },
     "metadata": {},
     "output_type": "display_data"
    },
    {
     "data": {
      "text/plain": [
       "<matplotlib.legend.Legend object at 0x7fce829ffd60>"
      ]
     },
     "metadata": {},
     "output_type": "display_data"
    }
   ],
   "source": [
    "# Configuración del gráfico\n",
    "pyplot$figure(figsize = c(10, 6))\n",
    "\n",
    "# Dibujar las líneas para cada ciudad\n",
    "pyplot$plot(meses, pm_ny, marker = \"o\", linestyle = \"-\", label = \"Nueva York\", color = \"blue\")\n",
    "pyplot$plot(meses, pm_la, marker = \"o\", linestyle = \"-\", label = \"Los Ángeles\", color = \"green\")\n",
    "pyplot$plot(meses, pm_chi, marker = \"o\", linestyle = \"-\", label = \"Chicago\", color = \"red\")\n",
    "\n",
    "# Personalización del gráfico\n",
    "pyplot$title(\"Concentraciones Mensuales de PM2.5\")\n",
    "pyplot$xlabel(\"Mes\")\n",
    "pyplot$ylabel(\"Concentración de PM2.5\")\n",
    "pyplot$legend()\n",
    "\n",
    "# Mostrar el gráfico\n",
    "pyplot$show()"
   ]
  },
  {
   "cell_type": "code",
   "execution_count": 4,
   "id": "approved-consortium",
   "metadata": {},
   "outputs": [],
   "source": [
    "# Guardar el gráfico en formato PNG\n",
    "pyplot$savefig(\"calidad_aire.png\")"
   ]
  }
 ],
 "metadata": {
  "kernelspec": {
   "display_name": "R",
   "language": "R",
   "name": "ir"
  },
  "language_info": {
   "codemirror_mode": "r",
   "file_extension": ".r",
   "mimetype": "text/x-r-source",
   "name": "R",
   "pygments_lexer": "r",
   "version": "3.6.3"
  }
 },
 "nbformat": 4,
 "nbformat_minor": 5
}
