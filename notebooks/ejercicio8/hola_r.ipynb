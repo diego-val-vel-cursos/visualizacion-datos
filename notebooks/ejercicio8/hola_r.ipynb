{
 "cells": [
  {
   "cell_type": "code",
   "execution_count": null,
   "id": "played-answer",
   "metadata": {},
   "outputs": [],
   "source": [
    "library(ggplot2)\n",
    "\n",
    "# Crear un data.frame simple\n",
    "data <- data.frame(\n",
    "  x = 1:10,\n",
    "  y = 1:10\n",
    ")\n",
    "\n",
    "# Crear un gráfico simple\n",
    "ggplot(data, aes(x=x, y=y)) + geom_line() + ggtitle(\"Hola R\")"
   ]
  }
 ],
 "metadata": {
  "kernelspec": {
   "display_name": "R",
   "language": "R",
   "name": "ir"
  },
  "language_info": {
   "codemirror_mode": "r",
   "file_extension": ".r",
   "mimetype": "text/x-r-source",
   "name": "R",
   "pygments_lexer": "r",
   "version": "3.6.3"
  }
 },
 "nbformat": 4,
 "nbformat_minor": 5
}
