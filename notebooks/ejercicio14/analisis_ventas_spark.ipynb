{
 "cells": [
  {
   "cell_type": "markdown",
   "id": "animated-think",
   "metadata": {},
   "source": [
    "# Análisis de Ventas\n",
    "Este notebook realiza un análisis de datos de ventas generados aleatoriamente para demostrar la capacidad de procesamiento de Apache Spark y la visualización con Matplotlib en Python. El objetivo es calcular y visualizar las ventas totales por categoría de producto, demostrando el flujo de trabajo desde la extracción hasta la visualización de grandes volúmenes de datos."
   ]
  },
  {
   "cell_type": "code",
   "execution_count": 1,
   "id": "original-relations",
   "metadata": {},
   "outputs": [
    {
     "ename": "ModuleNotFoundError",
     "evalue": "No module named 'pyspark'",
     "output_type": "error",
     "traceback": [
      "\u001b[0;31m\u001b[0m",
      "\u001b[0;31mModuleNotFoundError\u001b[0mTraceback (most recent call last)",
      "\u001b[0;32m<ipython-input-1-c73a70376f26>\u001b[0m in \u001b[0;36m<module>\u001b[0;34m\u001b[0m\n\u001b[0;32m----> 1\u001b[0;31m \u001b[0;32mfrom\u001b[0m \u001b[0mpyspark\u001b[0m\u001b[0;34m.\u001b[0m\u001b[0msql\u001b[0m \u001b[0;32mimport\u001b[0m \u001b[0mSparkSession\u001b[0m\u001b[0;34m\u001b[0m\u001b[0;34m\u001b[0m\u001b[0m\n\u001b[0m\u001b[1;32m      2\u001b[0m \u001b[0;32mimport\u001b[0m \u001b[0mpandas\u001b[0m \u001b[0;32mas\u001b[0m \u001b[0mpd\u001b[0m\u001b[0;34m\u001b[0m\u001b[0;34m\u001b[0m\u001b[0m\n\u001b[1;32m      3\u001b[0m \u001b[0;32mimport\u001b[0m \u001b[0mmatplotlib\u001b[0m\u001b[0;34m.\u001b[0m\u001b[0mpyplot\u001b[0m \u001b[0;32mas\u001b[0m \u001b[0mplt\u001b[0m\u001b[0;34m\u001b[0m\u001b[0;34m\u001b[0m\u001b[0m\n\u001b[1;32m      4\u001b[0m \u001b[0;32mimport\u001b[0m \u001b[0mrequests\u001b[0m\u001b[0;34m\u001b[0m\u001b[0;34m\u001b[0m\u001b[0m\n\u001b[1;32m      5\u001b[0m \u001b[0;34m\u001b[0m\u001b[0m\n",
      "\u001b[0;31mModuleNotFoundError\u001b[0m: No module named 'pyspark'"
     ]
    }
   ],
   "source": [
    "from pyspark.sql import SparkSession\n",
    "import pandas as pd\n",
    "import matplotlib.pyplot as plt\n",
    "import requests\n",
    "\n",
    "# Configuración de Spark Session\n",
    "spark = SparkSession.builder \\\n",
    "    .master(\"spark://aea1d7a08c36:7077\") \\\n",
    "    .appName(\"SalesDataAnalysis\") \\\n",
    "    .getOrCreate()"
   ]
  },
  {
   "cell_type": "code",
   "execution_count": null,
   "id": "seventh-flush",
   "metadata": {},
   "outputs": [],
   "source": [
    "def fetch_data():\n",
    "    url = \"https://random-data-api.com/api/commerce/random_commerce?size=1\"\n",
    "    response = requests.get(url)\n",
    "    data = response.json()\n",
    "    return pd.DataFrame(data)\n",
    "\n",
    "# Traer datos múltiples veces para simular un archivo grande\n",
    "df = pd.concat([fetch_data() for _ in range(10)], ignore_index=True)  # Ajusta el rango para más datos\n",
    "\n",
    "# Convertir a Spark DataFrame\n",
    "sdf = spark.createDataFrame(df)\n",
    "sdf.show()"
   ]
  },
  {
   "cell_type": "code",
   "execution_count": null,
   "id": "primary-execution",
   "metadata": {},
   "outputs": [],
   "source": [
    "from pyspark.sql.functions import col\n",
    "\n",
    "# Suponiendo que los datos tienen una columna 'price' y 'quantity'\n",
    "sales_totals = sdf.withColumn(\"total_sales\", col(\"price\") * col(\"quantity\")) \\\n",
    "                  .groupBy(\"product_name\") \\\n",
    "                  .sum(\"total_sales\")\n",
    "\n",
    "sales_totals.show()"
   ]
  },
  {
   "cell_type": "code",
   "execution_count": null,
   "id": "hearing-illness",
   "metadata": {},
   "outputs": [],
   "source": [
    "# Convertir a Pandas DataFrame para visualización\n",
    "pd_df = sales_totals.toPandas()\n",
    "\n",
    "# Crear gráfico\n",
    "plt.figure(figsize=(10, 6))\n",
    "plt.bar(pd_df['product_name'], pd_df['sum(total_sales)'])\n",
    "plt.xlabel('Product Name')\n",
    "plt.ylabel('Total Sales')\n",
    "plt.title('Total Sales by Product Name')\n",
    "\n",
    "# Guardar como PNG\n",
    "plt.savefig('sales_by_product.png')\n",
    "\n",
    "# Guardar como HTML\n",
    "plt.savefig('sales_by_product.html')\n",
    "\n",
    "plt.show()"
   ]
  }
 ],
 "metadata": {
  "kernelspec": {
   "display_name": "Python 3",
   "language": "python",
   "name": "python3"
  },
  "language_info": {
   "codemirror_mode": {
    "name": "ipython",
    "version": 3
   },
   "file_extension": ".py",
   "mimetype": "text/x-python",
   "name": "python",
   "nbconvert_exporter": "python",
   "pygments_lexer": "ipython3",
   "version": "3.8.6"
  }
 },
 "nbformat": 4,
 "nbformat_minor": 5
}
