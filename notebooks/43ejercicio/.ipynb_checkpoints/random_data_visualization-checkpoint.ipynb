{
 "cells": [
  {
   "cell_type": "markdown",
   "id": "laden-distance",
   "metadata": {},
   "source": [
    "# Visualización de Datos Aleatorios con Holoviews\n",
    "\n",
    "## Objetivo\n",
    "El objetivo de este ejercicio es demostrar cómo se pueden utilizar técnicas de visualización de datos avanzadas para crear gráficos estéticamente agradables y funcionales. Usaremos Holoviews, una biblioteca poderosa y flexible, para generar una visualización de datos aleatorios que simula una serie temporal de temperaturas.\n",
    "\n",
    "## Análisis del Problema\n",
    "En muchos casos, la presentación visual de los datos es casi tan importante como los datos mismos. Un buen diseño gráfico no solo ayuda a interpretar los datos de manera más eficiente, sino que también puede mejorar la comunicación y hacer que el mensaje sea más accesible para una audiencia más amplia.\n",
    "\n",
    "En este ejercicio, nos centraremos en:\n",
    "- **Generar datos aleatorios**: Crearemos un conjunto de datos simulados que representen las temperaturas diarias a lo largo de un mes.\n",
    "- **Visualización con Holoviews**: Utilizaremos Holoviews para trazar estos datos. Holoviews ofrece una interfaz rica para la creación de visualizaciones complejas de manera sencilla.\n",
    "- **Personalización estética**: Aplicaremos diversas personalizaciones al gráfico para mejorar su legibilidad y atractivo visual, incluyendo colores, estilos de línea, y configuración de la interactividad.\n",
    "\n",
    "Este enfoque no solo ilustrará cómo manipular datos y gráficos con Holoviews, sino que también destacará la importancia de la estética en la visualización de datos."
   ]
  },
  {
   "cell_type": "code",
   "execution_count": null,
   "id": "legitimate-thesaurus",
   "metadata": {},
   "outputs": [],
   "source": [
    "import numpy as np\n",
    "import pandas as pd\n",
    "import holoviews as hv\n",
    "from holoviews import opts\n",
    "\n",
    "hv.extension('bokeh')\n",
    "\n",
    "# Generar datos de temperatura aleatorios para 30 días\n",
    "np.random.seed(42)  # Para reproducibilidad\n",
    "fechas = pd.date_range('2023-01-01', periods=30)\n",
    "temperaturas = np.random.normal(loc=20, scale=5, size=30)  # Temperaturas en grados centígrados\n",
    "\n",
    "# Crear un DataFrame de pandas\n",
    "data = pd.DataFrame({'Fecha': fechas, 'Temperatura': temperaturas})"
   ]
  },
  {
   "cell_type": "code",
   "execution_count": null,
   "id": "saving-tobacco",
   "metadata": {},
   "outputs": [],
   "source": [
    "# Convertir el DataFrame a un objeto Holoviews Curve\n",
    "curve = hv.Curve(data, 'Fecha', 'Temperatura')\n",
    "\n",
    "# Aplicar opciones de estilo\n",
    "curve.opts(\n",
    "    opts.Curve(\n",
    "        width=800,\n",
    "        height=400,\n",
    "        line_color='blue',  # Color de la línea\n",
    "        line_width=2,       # Grosor de la línea\n",
    "        tools=['hover'],    # Herramienta interactiva para detalles al pasar el mouse\n",
    "        xlabel='Fecha',     # Etiqueta del eje X\n",
    "        ylabel='Temperatura (°C)',  # Etiqueta del eje Y\n",
    "        title='Visualización de Temperaturas Diarias',  # Título del gráfico\n",
    "        fontsize={'title': '14pt', 'labels': '12pt', 'ticks': '10pt'},\n",
    "        show_grid=True,     # Mostrar la cuadrícula\n",
    "        gridstyle={'grid_line_color': 'gray', 'grid_line_width': 0.5},\n",
    "        toolbar='above',   # Posición de la barra de herramientas\n",
    "        bgcolor='white'    # Color de fondo del gráfico\n",
    "    )\n",
    ")"
   ]
  }
 ],
 "metadata": {
  "kernelspec": {
   "display_name": "Python 3",
   "language": "python",
   "name": "python3"
  },
  "language_info": {
   "codemirror_mode": {
    "name": "ipython",
    "version": 3
   },
   "file_extension": ".py",
   "mimetype": "text/x-python",
   "name": "python",
   "nbconvert_exporter": "python",
   "pygments_lexer": "ipython3",
   "version": "3.8.6"
  }
 },
 "nbformat": 4,
 "nbformat_minor": 5
}
