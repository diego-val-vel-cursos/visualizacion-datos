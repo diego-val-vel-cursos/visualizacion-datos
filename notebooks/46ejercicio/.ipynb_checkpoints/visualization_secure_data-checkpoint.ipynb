{
 "cells": [
  {
   "cell_type": "markdown",
   "id": "dressed-grain",
   "metadata": {},
   "source": [
    "### Ejercicio: Visualización de Datos Desencriptados con HoloViews\n",
    "\n",
    "#### Objetivo\n",
    "Demostrar el proceso de encriptación y desencriptación de datos y su visualización mediante un gráfico de áreas apiladas en HoloViews. Este ejercicio resalta la capacidad de visualizar diferentes segmentos de datos (categorías de ventas) de manera efectiva y moderna.\n",
    "\n",
    "#### Análisis\n",
    "Utilizaremos datos de ventas diarias generados aleatoriamente distribuidos en tres categorías diferentes. Estos datos representarán las ventas de diferentes productos o servicios a lo largo de un mes. Primero, los datos serán encriptados para simular un escenario donde los datos sensibles son protegidos. Posteriormente, serán desencriptados y visualizados en un gráfico de áreas apiladas que proporcionará una visualización clara de cómo cada categoría contribuye al total de ventas a lo largo del tiempo.\n",
    "\n",
    "#### Planteamiento del Problema\n",
    "En contextos donde la seguridad de la información es crucial, es esencial poder procesar y visualizar datos mientras se garantiza su integridad y confidencialidad. Este ejercicio muestra cómo se pueden integrar técnicas de cifrado con herramientas avanzadas de visualización para analizar datos de ventas sin comprometer la seguridad de la información."
   ]
  },
  {
   "cell_type": "code",
   "execution_count": null,
   "id": "intimate-lighting",
   "metadata": {},
   "outputs": [],
   "source": [
    "# Celda 2: Generación de datos y encriptación\n",
    "\n",
    "import numpy as np\n",
    "import pandas as pd\n",
    "from cryptography.fernet import Fernet\n",
    "import holoviews as hv\n",
    "hv.extension('bokeh')\n",
    "\n",
    "# Generando datos aleatorios que representen ventas diarias en un mes, en tres categorías\n",
    "np.random.seed(42)  # Para reproducibilidad\n",
    "sales_data_category1 = np.random.randint(50, 150, size=30)\n",
    "sales_data_category2 = np.random.randint(30, 120, size=30)\n",
    "sales_data_category3 = np.random.randint(20, 90, size=30)\n",
    "\n",
    "# Combinar las categorías en un solo DataFrame\n",
    "dates = pd.date_range(start='2021-01-01', periods=30, freq='D')\n",
    "sales_data = pd.DataFrame({\n",
    "    'Fecha': dates,\n",
    "    'Categoria1': sales_data_category1,\n",
    "    'Categoria2': sales_data_category2,\n",
    "    'Categoria3': sales_data_category3\n",
    "})"
   ]
  },
  {
   "cell_type": "code",
   "execution_count": null,
   "id": "unusual-bangkok",
   "metadata": {},
   "outputs": [],
   "source": [
    "# Encriptando los datos\n",
    "cipher = Fernet(Fernet.generate_key())  # Crear una nueva clave para la sesión\n",
    "encrypted_sales_data = {column: [cipher.encrypt(str(val).encode()) for val in sales_data[column]] for column in sales_data.columns if column != 'Fecha'}\n",
    "\n",
    "# Desencriptando los datos para visualización\n",
    "decrypted_sales_data = {column: [float(cipher.decrypt(val).decode()) for val in encrypted_sales_data[column]] for column in encrypted_sales_data}\n",
    "decrypted_sales_data['Fecha'] = dates\n",
    "\n",
    "# Preparando los datos para visualización con Holoviews\n",
    "area_stack = hv.Area.stack(hv.Area((decrypted_sales_data['Fecha'], decrypted_sales_data['Categoria1']), 'Fecha', 'Ventas', label='Categoria 1') * \n",
    "                           hv.Area((decrypted_sales_data['Fecha'], decrypted_sales_data['Categoria2']), 'Fecha', 'Ventas', label='Categoria 2') *\n",
    "                           hv.Area((decrypted_sales_data['Fecha'], decrypted_sales_data['Categoria3']), 'Fecha', 'Ventas', label='Categoria 3'))\n",
    "\n",
    "# Visualizar\n",
    "area_plot = area_stack.opts(width=800, height=400, tools=['hover'], title=\"Ventas Diarias por Categoría Desencriptadas\")\n",
    "\n",
    "area_plot"
   ]
  }
 ],
 "metadata": {
  "kernelspec": {
   "display_name": "Python 3",
   "language": "python",
   "name": "python3"
  },
  "language_info": {
   "codemirror_mode": {
    "name": "ipython",
    "version": 3
   },
   "file_extension": ".py",
   "mimetype": "text/x-python",
   "name": "python",
   "nbconvert_exporter": "python",
   "pygments_lexer": "ipython3",
   "version": "3.8.6"
  }
 },
 "nbformat": 4,
 "nbformat_minor": 5
}
