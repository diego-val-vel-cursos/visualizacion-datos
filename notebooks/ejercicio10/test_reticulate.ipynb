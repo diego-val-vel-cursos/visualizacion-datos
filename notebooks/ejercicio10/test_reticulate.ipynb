{
 "cells": [
  {
   "cell_type": "code",
   "execution_count": null,
   "id": "balanced-entry",
   "metadata": {},
   "outputs": [],
   "source": [
    "# Ejecutar esto para encontrar la ruta correcta de Python\n",
    "system(\"which python\", intern = TRUE)\n",
    "system(\"which python3\", intern = TRUE)"
   ]
  },
  {
   "cell_type": "code",
   "execution_count": null,
   "id": "original-municipality",
   "metadata": {},
   "outputs": [],
   "source": [
    "library(reticulate)\n",
    "\n",
    "# Usar el entorno Python predeterminado o especificar uno\n",
    "use_python(\"/opt/conda/bin/python3\", required = T)\n",
    "\n",
    "# Prueba la importación de un módulo Python para asegurar que reticulate está funcionando\n",
    "numpy <- import(\"numpy\")\n",
    "\n",
    "print(numpy$arange(10))"
   ]
  }
 ],
 "metadata": {
  "kernelspec": {
   "display_name": "R",
   "language": "R",
   "name": "ir"
  },
  "language_info": {
   "codemirror_mode": "r",
   "file_extension": ".r",
   "mimetype": "text/x-r-source",
   "name": "R",
   "pygments_lexer": "r",
   "version": "3.6.3"
  }
 },
 "nbformat": 4,
 "nbformat_minor": 5
}
